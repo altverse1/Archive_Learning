{
 "cells": [
  {
   "cell_type": "code",
   "execution_count": 1,
   "id": "ca92d0a0",
   "metadata": {},
   "outputs": [
    {
     "data": {
      "text/html": [
       "<div>\n",
       "<style scoped>\n",
       "    .dataframe tbody tr th:only-of-type {\n",
       "        vertical-align: middle;\n",
       "    }\n",
       "\n",
       "    .dataframe tbody tr th {\n",
       "        vertical-align: top;\n",
       "    }\n",
       "\n",
       "    .dataframe thead th {\n",
       "        text-align: right;\n",
       "    }\n",
       "</style>\n",
       "<table border=\"1\" class=\"dataframe\">\n",
       "  <thead>\n",
       "    <tr style=\"text-align: right;\">\n",
       "      <th></th>\n",
       "      <th>User ID</th>\n",
       "      <th>Gender</th>\n",
       "      <th>Age</th>\n",
       "      <th>EstimatedSalary</th>\n",
       "      <th>Purchased</th>\n",
       "    </tr>\n",
       "  </thead>\n",
       "  <tbody>\n",
       "    <tr>\n",
       "      <th>0</th>\n",
       "      <td>15624510</td>\n",
       "      <td>Male</td>\n",
       "      <td>19</td>\n",
       "      <td>19000</td>\n",
       "      <td>0</td>\n",
       "    </tr>\n",
       "    <tr>\n",
       "      <th>1</th>\n",
       "      <td>15810944</td>\n",
       "      <td>Male</td>\n",
       "      <td>35</td>\n",
       "      <td>20000</td>\n",
       "      <td>0</td>\n",
       "    </tr>\n",
       "    <tr>\n",
       "      <th>2</th>\n",
       "      <td>15668575</td>\n",
       "      <td>Female</td>\n",
       "      <td>26</td>\n",
       "      <td>43000</td>\n",
       "      <td>0</td>\n",
       "    </tr>\n",
       "    <tr>\n",
       "      <th>3</th>\n",
       "      <td>15603246</td>\n",
       "      <td>Female</td>\n",
       "      <td>27</td>\n",
       "      <td>57000</td>\n",
       "      <td>0</td>\n",
       "    </tr>\n",
       "    <tr>\n",
       "      <th>4</th>\n",
       "      <td>15804002</td>\n",
       "      <td>Male</td>\n",
       "      <td>19</td>\n",
       "      <td>76000</td>\n",
       "      <td>0</td>\n",
       "    </tr>\n",
       "    <tr>\n",
       "      <th>...</th>\n",
       "      <td>...</td>\n",
       "      <td>...</td>\n",
       "      <td>...</td>\n",
       "      <td>...</td>\n",
       "      <td>...</td>\n",
       "    </tr>\n",
       "    <tr>\n",
       "      <th>395</th>\n",
       "      <td>15691863</td>\n",
       "      <td>Female</td>\n",
       "      <td>46</td>\n",
       "      <td>41000</td>\n",
       "      <td>1</td>\n",
       "    </tr>\n",
       "    <tr>\n",
       "      <th>396</th>\n",
       "      <td>15706071</td>\n",
       "      <td>Male</td>\n",
       "      <td>51</td>\n",
       "      <td>23000</td>\n",
       "      <td>1</td>\n",
       "    </tr>\n",
       "    <tr>\n",
       "      <th>397</th>\n",
       "      <td>15654296</td>\n",
       "      <td>Female</td>\n",
       "      <td>50</td>\n",
       "      <td>20000</td>\n",
       "      <td>1</td>\n",
       "    </tr>\n",
       "    <tr>\n",
       "      <th>398</th>\n",
       "      <td>15755018</td>\n",
       "      <td>Male</td>\n",
       "      <td>36</td>\n",
       "      <td>33000</td>\n",
       "      <td>0</td>\n",
       "    </tr>\n",
       "    <tr>\n",
       "      <th>399</th>\n",
       "      <td>15594041</td>\n",
       "      <td>Female</td>\n",
       "      <td>49</td>\n",
       "      <td>36000</td>\n",
       "      <td>1</td>\n",
       "    </tr>\n",
       "  </tbody>\n",
       "</table>\n",
       "<p>400 rows × 5 columns</p>\n",
       "</div>"
      ],
      "text/plain": [
       "      User ID  Gender  Age  EstimatedSalary  Purchased\n",
       "0    15624510    Male   19            19000          0\n",
       "1    15810944    Male   35            20000          0\n",
       "2    15668575  Female   26            43000          0\n",
       "3    15603246  Female   27            57000          0\n",
       "4    15804002    Male   19            76000          0\n",
       "..        ...     ...  ...              ...        ...\n",
       "395  15691863  Female   46            41000          1\n",
       "396  15706071    Male   51            23000          1\n",
       "397  15654296  Female   50            20000          1\n",
       "398  15755018    Male   36            33000          0\n",
       "399  15594041  Female   49            36000          1\n",
       "\n",
       "[400 rows x 5 columns]"
      ]
     },
     "execution_count": 1,
     "metadata": {},
     "output_type": "execute_result"
    }
   ],
   "source": [
    "import pandas as pd\n",
    "df = pd.read_csv('User_Data.csv')\n",
    "df"
   ]
  },
  {
   "cell_type": "code",
   "execution_count": 2,
   "id": "d4b27778",
   "metadata": {},
   "outputs": [
    {
     "data": {
      "text/plain": [
       "User ID            0\n",
       "Gender             0\n",
       "Age                0\n",
       "EstimatedSalary    0\n",
       "Purchased          0\n",
       "dtype: int64"
      ]
     },
     "execution_count": 2,
     "metadata": {},
     "output_type": "execute_result"
    }
   ],
   "source": [
    "df.isnull().sum()"
   ]
  },
  {
   "cell_type": "code",
   "execution_count": 3,
   "id": "6a7419dc",
   "metadata": {},
   "outputs": [],
   "source": [
    "x = df.iloc[:,[1,2,3]].values\n",
    "y = df.iloc[:,4].values"
   ]
  },
  {
   "cell_type": "code",
   "execution_count": 4,
   "id": "60609ca9",
   "metadata": {},
   "outputs": [
    {
     "data": {
      "text/plain": [
       "array([[1, 19, 19000],\n",
       "       [1, 35, 20000],\n",
       "       [0, 26, 43000],\n",
       "       ...,\n",
       "       [0, 50, 20000],\n",
       "       [1, 36, 33000],\n",
       "       [0, 49, 36000]], dtype=object)"
      ]
     },
     "execution_count": 4,
     "metadata": {},
     "output_type": "execute_result"
    }
   ],
   "source": [
    "from sklearn.preprocessing import LabelEncoder\n",
    "encode = LabelEncoder()\n",
    "x[:,0] = encode.fit_transform(x[:,0])\n",
    "x"
   ]
  },
  {
   "cell_type": "code",
   "execution_count": 5,
   "id": "4284d129",
   "metadata": {},
   "outputs": [],
   "source": [
    "from sklearn.model_selection import train_test_split as tts\n",
    "x_train, x_test, y_train, y_test = tts(x,y,test_size = 0.2, random_state = 0)\n"
   ]
  },
  {
   "cell_type": "code",
   "execution_count": 6,
   "id": "a44de766",
   "metadata": {},
   "outputs": [
    {
     "data": {
      "text/plain": [
       "array([[ 1.02532046e+00, -7.98950822e-01,  4.94607583e-01],\n",
       "       [-9.75304830e-01, -2.12648508e-02, -5.77359062e-01],\n",
       "       [ 1.02532046e+00, -3.12897090e-01,  1.46942725e-01],\n",
       "       [-9.75304830e-01, -7.98950822e-01,  2.62831011e-01],\n",
       "       [-9.75304830e-01, -3.12897090e-01, -5.77359062e-01],\n",
       "       [ 1.02532046e+00, -1.09058306e+00, -1.44652121e+00],\n",
       "       [-9.75304830e-01, -7.01740076e-01, -1.59138156e+00],\n",
       "       [ 1.02532046e+00, -2.15686344e-01,  2.14601566e+00],\n",
       "       [-9.75304830e-01, -1.96547978e+00, -5.58617754e-02],\n",
       "       [ 1.02532046e+00,  8.53631867e-01, -7.80163563e-01],\n",
       "       [ 1.02532046e+00, -7.98950822e-01, -6.06331134e-01],\n",
       "       [-9.75304830e-01, -9.93372315e-01, -4.32498705e-01],\n",
       "       [ 1.02532046e+00, -1.18475597e-01, -4.32498705e-01],\n",
       "       [ 1.02532046e+00,  7.59458956e-02,  2.04886868e-01],\n",
       "       [ 1.02532046e+00, -1.77105829e+00,  4.65635512e-01],\n",
       "       [-9.75304830e-01, -6.04529329e-01,  1.36376973e+00],\n",
       "       [ 1.02532046e+00, -1.18475597e-01,  2.04886868e-01],\n",
       "       [ 1.02532046e+00, -1.86826903e+00,  4.36663440e-01],\n",
       "       [-9.75304830e-01,  1.63131784e+00,  1.74040666e+00],\n",
       "       [ 1.02532046e+00, -3.12897090e-01, -1.38857706e+00],\n",
       "       [-9.75304830e-01, -3.12897090e-01, -6.64275277e-01],\n",
       "       [-9.75304830e-01,  8.53631867e-01,  2.14601566e+00],\n",
       "       [-9.75304830e-01,  2.70367388e-01, -5.48386991e-01],\n",
       "       [ 1.02532046e+00,  8.53631867e-01,  1.01610487e+00],\n",
       "       [-9.75304830e-01, -1.47942605e+00, -1.21474464e+00],\n",
       "       [-9.75304830e-01,  1.04805336e+00,  2.05909944e+00],\n",
       "       [-9.75304830e-01, -9.93372315e-01,  4.94607583e-01],\n",
       "       [ 1.02532046e+00, -8.96161568e-01,  2.91803083e-01],\n",
       "       [-9.75304830e-01, -1.18475597e-01, -2.29694204e-01],\n",
       "       [-9.75304830e-01, -6.04529329e-01,  4.65635512e-01],\n",
       "       [ 1.02532046e+00, -1.67384754e+00,  5.23579655e-01],\n",
       "       [ 1.02532046e+00, -1.18475597e-01,  2.62831011e-01],\n",
       "       [ 1.02532046e+00,  1.82573933e+00, -2.87638347e-01],\n",
       "       [ 1.02532046e+00, -1.18475597e-01, -4.90442848e-01],\n",
       "       [ 1.02532046e+00, -1.38221530e+00, -3.45582490e-01],\n",
       "       [ 1.02532046e+00, -1.96547978e+00, -5.19414919e-01],\n",
       "       [ 1.02532046e+00, -1.57663679e+00,  3.20775154e-01],\n",
       "       [-9.75304830e-01, -4.10107836e-01, -7.80163563e-01],\n",
       "       [-9.75304830e-01, -7.01740076e-01, -1.04091221e+00],\n",
       "       [-9.75304830e-01,  1.04805336e+00, -9.82968063e-01],\n",
       "       [ 1.02532046e+00, -1.09058306e+00,  5.23579655e-01],\n",
       "       [ 1.02532046e+00,  2.70367388e-01, -5.19414919e-01],\n",
       "       [-9.75304830e-01, -1.09058306e+00,  4.07691369e-01],\n",
       "       [ 1.02532046e+00, -3.12897090e-01, -1.44652121e+00],\n",
       "       [-9.75304830e-01,  4.64788881e-01,  1.21890937e+00],\n",
       "       [-9.75304830e-01, -1.09058306e+00, -3.45582490e-01],\n",
       "       [-9.75304830e-01, -1.18475597e-01,  2.91803083e-01],\n",
       "       [-9.75304830e-01,  1.33968560e+00,  5.81523798e-01],\n",
       "       [ 1.02532046e+00, -1.18779381e+00, -1.15680049e+00],\n",
       "       [ 1.02532046e+00,  1.04805336e+00,  4.65635512e-01],\n",
       "       [-9.75304830e-01,  1.82573933e+00,  1.50863009e+00],\n",
       "       [-9.75304830e-01, -4.10107836e-01, -1.30166085e+00],\n",
       "       [-9.75304830e-01, -3.12897090e-01, -3.74554562e-01],\n",
       "       [ 1.02532046e+00, -4.10107836e-01,  1.30582558e+00],\n",
       "       [-9.75304830e-01,  2.02016082e+00,  5.23579655e-01],\n",
       "       [ 1.02532046e+00,  6.59210374e-01, -1.09885635e+00],\n",
       "       [-9.75304830e-01, -8.96161568e-01,  3.78719297e-01],\n",
       "       [-9.75304830e-01, -1.18779381e+00,  2.91803083e-01],\n",
       "       [ 1.02532046e+00,  1.04805336e+00, -1.21474464e+00],\n",
       "       [ 1.02532046e+00, -1.47942605e+00, -1.44652121e+00],\n",
       "       [ 1.02532046e+00, -6.04529329e-01, -1.50446535e+00],\n",
       "       [ 1.02532046e+00,  2.11737157e+00, -8.09135634e-01],\n",
       "       [ 1.02532046e+00, -1.86826903e+00,  1.75914797e-01],\n",
       "       [ 1.02532046e+00, -2.15686344e-01,  8.42272441e-01],\n",
       "       [-9.75304830e-01, -1.86826903e+00, -1.27268878e+00],\n",
       "       [ 1.02532046e+00,  2.11737157e+00,  3.78719297e-01],\n",
       "       [-9.75304830e-01, -1.38221530e+00,  5.52551726e-01],\n",
       "       [ 1.02532046e+00, -1.09058306e+00, -3.45582490e-01],\n",
       "       [ 1.02532046e+00,  1.73156642e-01, -6.64275277e-01],\n",
       "       [-9.75304830e-01,  3.67578135e-01,  2.08236764e-03],\n",
       "       [-9.75304830e-01, -6.04529329e-01,  2.31984809e+00],\n",
       "       [-9.75304830e-01, -3.12897090e-01,  2.04886868e-01],\n",
       "       [-9.75304830e-01, -1.57663679e+00, -2.00722133e-01],\n",
       "       [ 1.02532046e+00,  6.59210374e-01, -1.38857706e+00],\n",
       "       [ 1.02532046e+00, -1.09058306e+00,  5.52551726e-01],\n",
       "       [ 1.02532046e+00, -1.96547978e+00,  3.49747226e-01],\n",
       "       [-9.75304830e-01,  3.67578135e-01,  2.62831011e-01],\n",
       "       [-9.75304830e-01,  1.73156642e-01, -2.87638347e-01],\n",
       "       [-9.75304830e-01,  1.43689635e+00, -1.04091221e+00],\n",
       "       [-9.75304830e-01,  8.53631867e-01,  1.07404901e+00]])"
      ]
     },
     "execution_count": 6,
     "metadata": {},
     "output_type": "execute_result"
    }
   ],
   "source": [
    "from sklearn.preprocessing import StandardScaler\n",
    "st_x = StandardScaler()\n",
    "x_train = st_x.fit_transform(x_train)\n",
    "x_test = st_x.transform(x_test)\n",
    "x_test"
   ]
  },
  {
   "cell_type": "code",
   "execution_count": 7,
   "id": "d083b4da",
   "metadata": {},
   "outputs": [
    {
     "data": {
      "text/plain": [
       "SVC(kernel='linear', random_state=0)"
      ]
     },
     "execution_count": 7,
     "metadata": {},
     "output_type": "execute_result"
    }
   ],
   "source": [
    "from sklearn.svm import SVC\n",
    "classifier = SVC(kernel=\"linear\", random_state = 0)\n",
    "classifier.fit(x_train, y_train)"
   ]
  },
  {
   "cell_type": "code",
   "execution_count": 8,
   "id": "fc9ce5f1",
   "metadata": {},
   "outputs": [],
   "source": [
    "y_pred = classifier.predict(x_test)"
   ]
  },
  {
   "cell_type": "code",
   "execution_count": 9,
   "id": "6a9604a7",
   "metadata": {},
   "outputs": [
    {
     "data": {
      "text/plain": [
       "array([[57,  1],\n",
       "       [ 6, 16]], dtype=int64)"
      ]
     },
     "execution_count": 9,
     "metadata": {},
     "output_type": "execute_result"
    }
   ],
   "source": [
    "from sklearn.metrics import confusion_matrix\n",
    "cm = confusion_matrix(y_test, y_pred)\n",
    "cm"
   ]
  },
  {
   "cell_type": "code",
   "execution_count": null,
   "id": "578ddef4",
   "metadata": {},
   "outputs": [],
   "source": []
  }
 ],
 "metadata": {
  "kernelspec": {
   "display_name": "Python 3 (ipykernel)",
   "language": "python",
   "name": "python3"
  },
  "language_info": {
   "codemirror_mode": {
    "name": "ipython",
    "version": 3
   },
   "file_extension": ".py",
   "mimetype": "text/x-python",
   "name": "python",
   "nbconvert_exporter": "python",
   "pygments_lexer": "ipython3",
   "version": "3.9.13"
  }
 },
 "nbformat": 4,
 "nbformat_minor": 5
}
