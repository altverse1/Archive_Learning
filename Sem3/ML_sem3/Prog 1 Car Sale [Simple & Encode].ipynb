{
 "cells": [
  {
   "cell_type": "markdown",
   "id": "2337f29e",
   "metadata": {},
   "source": [
    "# No Encoding Car Sales"
   ]
  },
  {
   "cell_type": "code",
   "execution_count": 1,
   "id": "9fdaeae9",
   "metadata": {},
   "outputs": [
    {
     "data": {
      "text/html": [
       "<div>\n",
       "<style scoped>\n",
       "    .dataframe tbody tr th:only-of-type {\n",
       "        vertical-align: middle;\n",
       "    }\n",
       "\n",
       "    .dataframe tbody tr th {\n",
       "        vertical-align: top;\n",
       "    }\n",
       "\n",
       "    .dataframe thead th {\n",
       "        text-align: right;\n",
       "    }\n",
       "</style>\n",
       "<table border=\"1\" class=\"dataframe\">\n",
       "  <thead>\n",
       "    <tr style=\"text-align: right;\">\n",
       "      <th></th>\n",
       "      <th>Make</th>\n",
       "      <th>Colour</th>\n",
       "      <th>Odometer</th>\n",
       "      <th>Doors</th>\n",
       "      <th>Price</th>\n",
       "    </tr>\n",
       "  </thead>\n",
       "  <tbody>\n",
       "    <tr>\n",
       "      <th>0</th>\n",
       "      <td>Toyota</td>\n",
       "      <td>White</td>\n",
       "      <td>150043.0</td>\n",
       "      <td>4.0</td>\n",
       "      <td>4000.0</td>\n",
       "    </tr>\n",
       "    <tr>\n",
       "      <th>1</th>\n",
       "      <td>Honda</td>\n",
       "      <td>Red</td>\n",
       "      <td>87899.0</td>\n",
       "      <td>4.0</td>\n",
       "      <td>5000.0</td>\n",
       "    </tr>\n",
       "    <tr>\n",
       "      <th>2</th>\n",
       "      <td>Toyota</td>\n",
       "      <td>Blue</td>\n",
       "      <td>NaN</td>\n",
       "      <td>3.0</td>\n",
       "      <td>7000.0</td>\n",
       "    </tr>\n",
       "    <tr>\n",
       "      <th>3</th>\n",
       "      <td>BMW</td>\n",
       "      <td>Black</td>\n",
       "      <td>11179.0</td>\n",
       "      <td>5.0</td>\n",
       "      <td>22000.0</td>\n",
       "    </tr>\n",
       "    <tr>\n",
       "      <th>4</th>\n",
       "      <td>Nissan</td>\n",
       "      <td>White</td>\n",
       "      <td>213095.0</td>\n",
       "      <td>4.0</td>\n",
       "      <td>3500.0</td>\n",
       "    </tr>\n",
       "    <tr>\n",
       "      <th>5</th>\n",
       "      <td>Toyota</td>\n",
       "      <td>Green</td>\n",
       "      <td>NaN</td>\n",
       "      <td>4.0</td>\n",
       "      <td>4500.0</td>\n",
       "    </tr>\n",
       "    <tr>\n",
       "      <th>6</th>\n",
       "      <td>Honda</td>\n",
       "      <td>NaN</td>\n",
       "      <td>NaN</td>\n",
       "      <td>4.0</td>\n",
       "      <td>7500.0</td>\n",
       "    </tr>\n",
       "    <tr>\n",
       "      <th>7</th>\n",
       "      <td>Honda</td>\n",
       "      <td>Blue</td>\n",
       "      <td>NaN</td>\n",
       "      <td>4.0</td>\n",
       "      <td>NaN</td>\n",
       "    </tr>\n",
       "    <tr>\n",
       "      <th>8</th>\n",
       "      <td>Toyota</td>\n",
       "      <td>White</td>\n",
       "      <td>60000.0</td>\n",
       "      <td>NaN</td>\n",
       "      <td>NaN</td>\n",
       "    </tr>\n",
       "    <tr>\n",
       "      <th>9</th>\n",
       "      <td>NaN</td>\n",
       "      <td>White</td>\n",
       "      <td>31600.0</td>\n",
       "      <td>4.0</td>\n",
       "      <td>9700.0</td>\n",
       "    </tr>\n",
       "  </tbody>\n",
       "</table>\n",
       "</div>"
      ],
      "text/plain": [
       "     Make Colour  Odometer  Doors    Price\n",
       "0  Toyota  White  150043.0    4.0   4000.0\n",
       "1   Honda    Red   87899.0    4.0   5000.0\n",
       "2  Toyota   Blue       NaN    3.0   7000.0\n",
       "3     BMW  Black   11179.0    5.0  22000.0\n",
       "4  Nissan  White  213095.0    4.0   3500.0\n",
       "5  Toyota  Green       NaN    4.0   4500.0\n",
       "6   Honda    NaN       NaN    4.0   7500.0\n",
       "7   Honda   Blue       NaN    4.0      NaN\n",
       "8  Toyota  White   60000.0    NaN      NaN\n",
       "9     NaN  White   31600.0    4.0   9700.0"
      ]
     },
     "execution_count": 1,
     "metadata": {},
     "output_type": "execute_result"
    }
   ],
   "source": [
    "import pandas as pd\n",
    "df = pd.read_csv('car-sales-missing-data.csv')\n",
    "df"
   ]
  },
  {
   "cell_type": "code",
   "execution_count": 9,
   "id": "3a8c2451",
   "metadata": {},
   "outputs": [
    {
     "name": "stdout",
     "output_type": "stream",
     "text": [
      "Shape: (10, 5)\n",
      "\n",
      "top 5 elements:\n",
      "     Make Colour  Odometer  Doors    Price\n",
      "0  Toyota  White  150043.0    4.0   4000.0\n",
      "1   Honda    Red   87899.0    4.0   5000.0\n",
      "2  Toyota   Blue       NaN    3.0   7000.0\n",
      "3     BMW  Black   11179.0    5.0  22000.0\n",
      "4  Nissan  White  213095.0    4.0   3500.0\n",
      "\n",
      "last 5 elements:\n",
      "     Make Colour  Odometer  Doors   Price\n",
      "5  Toyota  Green       NaN    4.0  4500.0\n",
      "6   Honda    NaN       NaN    4.0  7500.0\n",
      "7   Honda   Blue       NaN    4.0     NaN\n",
      "8  Toyota  White   60000.0    NaN     NaN\n",
      "9     NaN  White   31600.0    4.0  9700.0\n",
      "\n",
      "number of columns:\n",
      "5\n",
      "\n",
      "number of rows:\n",
      "10\n",
      "\n",
      "frame showing null values:\n",
      "    Make  Colour  Odometer  Doors  Price\n",
      "0  False   False     False  False  False\n",
      "1  False   False     False  False  False\n",
      "2  False   False      True  False  False\n",
      "3  False   False     False  False  False\n",
      "4  False   False     False  False  False\n",
      "5  False   False      True  False  False\n",
      "6  False    True      True  False  False\n",
      "7  False   False      True  False   True\n",
      "8  False   False     False   True   True\n",
      "9   True   False     False  False  False\n",
      "\n",
      "column wise null value count:\n",
      "Make        1\n",
      "Colour      1\n",
      "Odometer    4\n",
      "Doors       1\n",
      "Price       2\n",
      "dtype: int64\n"
     ]
    }
   ],
   "source": [
    "print(f'Shape: {df.shape}')\n",
    "print(f'\\ntop 5 elements:\\n{df.head()}')\n",
    "print(f'\\nlast 5 elements:\\n{df.tail()}')\n",
    "print(f'\\nnumber of columns:\\n{len(df.columns)}')\n",
    "print(f'\\nnumber of rows:\\n{len(df.index)}')\n",
    "print(f'\\nframe showing null values:\\n{df.isnull()}')\n",
    "print(f'\\ncolumn wise null value count:\\n{df.isnull().sum()}')"
   ]
  },
  {
   "cell_type": "markdown",
   "id": "becba946",
   "metadata": {},
   "source": [
    "## Elemination of null values\n",
    "We can do this in a couple of ways\n",
    "\n",
    "1) Drop rows having null values\n",
    "> df.dropna(inplace = True)\\\n",
    "> Not a good way!\n",
    "\n",
    "2) Fill up something\n",
    "> Put zero there\n",
    "> > df.fillna(0,inplace = True)\n",
    "\n",
    "> Fill with value of previous row\n",
    "> > df.fillna(method = 'pad',inplace = True)\n",
    "\n",
    "> Fill with value of the row after\n",
    "> > df.fillna(method = 'bfill',inplace = Tue)\n"
   ]
  },
  {
   "cell_type": "code",
   "execution_count": 10,
   "id": "5e944461",
   "metadata": {},
   "outputs": [
    {
     "data": {
      "text/html": [
       "<div>\n",
       "<style scoped>\n",
       "    .dataframe tbody tr th:only-of-type {\n",
       "        vertical-align: middle;\n",
       "    }\n",
       "\n",
       "    .dataframe tbody tr th {\n",
       "        vertical-align: top;\n",
       "    }\n",
       "\n",
       "    .dataframe thead th {\n",
       "        text-align: right;\n",
       "    }\n",
       "</style>\n",
       "<table border=\"1\" class=\"dataframe\">\n",
       "  <thead>\n",
       "    <tr style=\"text-align: right;\">\n",
       "      <th></th>\n",
       "      <th>Make</th>\n",
       "      <th>Colour</th>\n",
       "      <th>Odometer</th>\n",
       "      <th>Doors</th>\n",
       "      <th>Price</th>\n",
       "    </tr>\n",
       "  </thead>\n",
       "  <tbody>\n",
       "    <tr>\n",
       "      <th>0</th>\n",
       "      <td>Toyota</td>\n",
       "      <td>White</td>\n",
       "      <td>150043.0</td>\n",
       "      <td>4.0</td>\n",
       "      <td>4000.0</td>\n",
       "    </tr>\n",
       "    <tr>\n",
       "      <th>1</th>\n",
       "      <td>Honda</td>\n",
       "      <td>Red</td>\n",
       "      <td>87899.0</td>\n",
       "      <td>4.0</td>\n",
       "      <td>5000.0</td>\n",
       "    </tr>\n",
       "    <tr>\n",
       "      <th>2</th>\n",
       "      <td>Toyota</td>\n",
       "      <td>Blue</td>\n",
       "      <td>87899.0</td>\n",
       "      <td>3.0</td>\n",
       "      <td>7000.0</td>\n",
       "    </tr>\n",
       "    <tr>\n",
       "      <th>3</th>\n",
       "      <td>BMW</td>\n",
       "      <td>Black</td>\n",
       "      <td>11179.0</td>\n",
       "      <td>5.0</td>\n",
       "      <td>22000.0</td>\n",
       "    </tr>\n",
       "    <tr>\n",
       "      <th>4</th>\n",
       "      <td>Nissan</td>\n",
       "      <td>White</td>\n",
       "      <td>213095.0</td>\n",
       "      <td>4.0</td>\n",
       "      <td>3500.0</td>\n",
       "    </tr>\n",
       "    <tr>\n",
       "      <th>5</th>\n",
       "      <td>Toyota</td>\n",
       "      <td>Green</td>\n",
       "      <td>213095.0</td>\n",
       "      <td>4.0</td>\n",
       "      <td>4500.0</td>\n",
       "    </tr>\n",
       "    <tr>\n",
       "      <th>6</th>\n",
       "      <td>Honda</td>\n",
       "      <td>Green</td>\n",
       "      <td>213095.0</td>\n",
       "      <td>4.0</td>\n",
       "      <td>7500.0</td>\n",
       "    </tr>\n",
       "    <tr>\n",
       "      <th>7</th>\n",
       "      <td>Honda</td>\n",
       "      <td>Blue</td>\n",
       "      <td>213095.0</td>\n",
       "      <td>4.0</td>\n",
       "      <td>7500.0</td>\n",
       "    </tr>\n",
       "    <tr>\n",
       "      <th>8</th>\n",
       "      <td>Toyota</td>\n",
       "      <td>White</td>\n",
       "      <td>60000.0</td>\n",
       "      <td>4.0</td>\n",
       "      <td>7500.0</td>\n",
       "    </tr>\n",
       "    <tr>\n",
       "      <th>9</th>\n",
       "      <td>Toyota</td>\n",
       "      <td>White</td>\n",
       "      <td>31600.0</td>\n",
       "      <td>4.0</td>\n",
       "      <td>9700.0</td>\n",
       "    </tr>\n",
       "  </tbody>\n",
       "</table>\n",
       "</div>"
      ],
      "text/plain": [
       "     Make Colour  Odometer  Doors    Price\n",
       "0  Toyota  White  150043.0    4.0   4000.0\n",
       "1   Honda    Red   87899.0    4.0   5000.0\n",
       "2  Toyota   Blue   87899.0    3.0   7000.0\n",
       "3     BMW  Black   11179.0    5.0  22000.0\n",
       "4  Nissan  White  213095.0    4.0   3500.0\n",
       "5  Toyota  Green  213095.0    4.0   4500.0\n",
       "6   Honda  Green  213095.0    4.0   7500.0\n",
       "7   Honda   Blue  213095.0    4.0   7500.0\n",
       "8  Toyota  White   60000.0    4.0   7500.0\n",
       "9  Toyota  White   31600.0    4.0   9700.0"
      ]
     },
     "execution_count": 10,
     "metadata": {},
     "output_type": "execute_result"
    }
   ],
   "source": [
    "# using pad\n",
    "df.fillna(method = 'pad', inplace = True)\n",
    "df"
   ]
  },
  {
   "cell_type": "markdown",
   "id": "74b0ca5b",
   "metadata": {},
   "source": [
    "## Splitting methods\n",
    "\n",
    "Splitting can be done in two ways\n",
    "\n",
    "1) Using drop\n",
    "> This will yeild a data frame as an output\\\n",
    "It's goes like\\\n",
    "df.drop(['Column_name'], axis = 1)\\\n",
    "axis = 1 specifies that we're selecting a cloumn\\\n",
    "\n",
    "2) Using iloc\n",
    "> This will yeild a array as an output and is fom single column\\\n",
    "It's goes like\\\n",
    "df.iloc[:,:].values This is basically slicing where first half is row and second half is column\\ \n",
    "start[:]end(not included)\\ \n",
    "if only [:,x] the x column is selected\\\n",
    "if [:,:] the whole thing is selected "
   ]
  },
  {
   "cell_type": "code",
   "execution_count": 15,
   "id": "381935aa",
   "metadata": {},
   "outputs": [
    {
     "data": {
      "text/plain": [
       "0     4000.0\n",
       "1     5000.0\n",
       "2     7000.0\n",
       "3    22000.0\n",
       "4     3500.0\n",
       "5     4500.0\n",
       "6     7500.0\n",
       "7     7500.0\n",
       "8     7500.0\n",
       "9     9700.0\n",
       "Name: Price, dtype: float64"
      ]
     },
     "execution_count": 15,
     "metadata": {},
     "output_type": "execute_result"
    }
   ],
   "source": [
    "#we'll use drop for simplicity\n",
    "x = df.drop(['Price','Make','Colour'],axis = 1)\n",
    "y = df['Price']\n",
    "y"
   ]
  },
  {
   "cell_type": "code",
   "execution_count": 16,
   "id": "97349cf0",
   "metadata": {},
   "outputs": [],
   "source": [
    "#Now we'll try to do splitting for train and test\n",
    "from sklearn.model_selection import train_test_split as tts\n",
    "x_train, x_test, y_train, y_test =  tts(x,y,test_size = 0.25)"
   ]
  },
  {
   "cell_type": "code",
   "execution_count": 17,
   "id": "8d426174",
   "metadata": {},
   "outputs": [
    {
     "data": {
      "text/plain": [
       "LinearRegression()"
      ]
     },
     "execution_count": 17,
     "metadata": {},
     "output_type": "execute_result"
    }
   ],
   "source": [
    "from sklearn.linear_model import LinearRegression\n",
    "regression = LinearRegression()\n",
    "regression.fit(x_train, y_train) #training"
   ]
  },
  {
   "cell_type": "code",
   "execution_count": 21,
   "id": "e876cb79",
   "metadata": {},
   "outputs": [
    {
     "name": "stdout",
     "output_type": "stream",
     "text": [
      "Test Score:  -3.5382225427796055\n",
      "Train Score:  0.7426529510790547\n"
     ]
    }
   ],
   "source": [
    "y_pred = regression.predict(x_test) #putting test values to do sum prediction\n",
    "x_pred = regression.predict(x_train)\n",
    "print(\"Test Score: \",regression.score(x_test,y_test))\n",
    "print(\"Train Score: \",regression.score(x_train,y_train))"
   ]
  },
  {
   "cell_type": "markdown",
   "id": "df27d699",
   "metadata": {},
   "source": [
    "# Label Encoding Car Sales"
   ]
  },
  {
   "cell_type": "code",
   "execution_count": 47,
   "id": "fed25d2b",
   "metadata": {},
   "outputs": [
    {
     "data": {
      "text/html": [
       "<div>\n",
       "<style scoped>\n",
       "    .dataframe tbody tr th:only-of-type {\n",
       "        vertical-align: middle;\n",
       "    }\n",
       "\n",
       "    .dataframe tbody tr th {\n",
       "        vertical-align: top;\n",
       "    }\n",
       "\n",
       "    .dataframe thead th {\n",
       "        text-align: right;\n",
       "    }\n",
       "</style>\n",
       "<table border=\"1\" class=\"dataframe\">\n",
       "  <thead>\n",
       "    <tr style=\"text-align: right;\">\n",
       "      <th></th>\n",
       "      <th>Make</th>\n",
       "      <th>Colour</th>\n",
       "      <th>Odometer</th>\n",
       "      <th>Doors</th>\n",
       "      <th>Price</th>\n",
       "    </tr>\n",
       "  </thead>\n",
       "  <tbody>\n",
       "    <tr>\n",
       "      <th>0</th>\n",
       "      <td>Toyota</td>\n",
       "      <td>White</td>\n",
       "      <td>150043.0</td>\n",
       "      <td>4.0</td>\n",
       "      <td>4000.0</td>\n",
       "    </tr>\n",
       "    <tr>\n",
       "      <th>1</th>\n",
       "      <td>Honda</td>\n",
       "      <td>Red</td>\n",
       "      <td>87899.0</td>\n",
       "      <td>4.0</td>\n",
       "      <td>5000.0</td>\n",
       "    </tr>\n",
       "    <tr>\n",
       "      <th>2</th>\n",
       "      <td>Toyota</td>\n",
       "      <td>Blue</td>\n",
       "      <td>NaN</td>\n",
       "      <td>3.0</td>\n",
       "      <td>7000.0</td>\n",
       "    </tr>\n",
       "    <tr>\n",
       "      <th>3</th>\n",
       "      <td>BMW</td>\n",
       "      <td>Black</td>\n",
       "      <td>11179.0</td>\n",
       "      <td>5.0</td>\n",
       "      <td>22000.0</td>\n",
       "    </tr>\n",
       "    <tr>\n",
       "      <th>4</th>\n",
       "      <td>Nissan</td>\n",
       "      <td>White</td>\n",
       "      <td>213095.0</td>\n",
       "      <td>4.0</td>\n",
       "      <td>3500.0</td>\n",
       "    </tr>\n",
       "    <tr>\n",
       "      <th>5</th>\n",
       "      <td>Toyota</td>\n",
       "      <td>Green</td>\n",
       "      <td>NaN</td>\n",
       "      <td>4.0</td>\n",
       "      <td>4500.0</td>\n",
       "    </tr>\n",
       "    <tr>\n",
       "      <th>6</th>\n",
       "      <td>Honda</td>\n",
       "      <td>NaN</td>\n",
       "      <td>NaN</td>\n",
       "      <td>4.0</td>\n",
       "      <td>7500.0</td>\n",
       "    </tr>\n",
       "    <tr>\n",
       "      <th>7</th>\n",
       "      <td>Honda</td>\n",
       "      <td>Blue</td>\n",
       "      <td>NaN</td>\n",
       "      <td>4.0</td>\n",
       "      <td>NaN</td>\n",
       "    </tr>\n",
       "    <tr>\n",
       "      <th>8</th>\n",
       "      <td>Toyota</td>\n",
       "      <td>White</td>\n",
       "      <td>60000.0</td>\n",
       "      <td>NaN</td>\n",
       "      <td>NaN</td>\n",
       "    </tr>\n",
       "    <tr>\n",
       "      <th>9</th>\n",
       "      <td>NaN</td>\n",
       "      <td>White</td>\n",
       "      <td>31600.0</td>\n",
       "      <td>4.0</td>\n",
       "      <td>9700.0</td>\n",
       "    </tr>\n",
       "  </tbody>\n",
       "</table>\n",
       "</div>"
      ],
      "text/plain": [
       "     Make Colour  Odometer  Doors    Price\n",
       "0  Toyota  White  150043.0    4.0   4000.0\n",
       "1   Honda    Red   87899.0    4.0   5000.0\n",
       "2  Toyota   Blue       NaN    3.0   7000.0\n",
       "3     BMW  Black   11179.0    5.0  22000.0\n",
       "4  Nissan  White  213095.0    4.0   3500.0\n",
       "5  Toyota  Green       NaN    4.0   4500.0\n",
       "6   Honda    NaN       NaN    4.0   7500.0\n",
       "7   Honda   Blue       NaN    4.0      NaN\n",
       "8  Toyota  White   60000.0    NaN      NaN\n",
       "9     NaN  White   31600.0    4.0   9700.0"
      ]
     },
     "execution_count": 47,
     "metadata": {},
     "output_type": "execute_result"
    }
   ],
   "source": [
    "import pandas as pd\n",
    "df = pd.read_csv('car-sales-missing-data.csv')\n",
    "df"
   ]
  },
  {
   "cell_type": "code",
   "execution_count": 48,
   "id": "a9ddfb82",
   "metadata": {},
   "outputs": [
    {
     "data": {
      "text/plain": [
       "Make        1\n",
       "Colour      1\n",
       "Odometer    4\n",
       "Doors       1\n",
       "Price       2\n",
       "dtype: int64"
      ]
     },
     "execution_count": 48,
     "metadata": {},
     "output_type": "execute_result"
    }
   ],
   "source": [
    "df.isnull().sum()"
   ]
  },
  {
   "cell_type": "code",
   "execution_count": 49,
   "id": "e52d90f6",
   "metadata": {},
   "outputs": [
    {
     "data": {
      "text/html": [
       "<div>\n",
       "<style scoped>\n",
       "    .dataframe tbody tr th:only-of-type {\n",
       "        vertical-align: middle;\n",
       "    }\n",
       "\n",
       "    .dataframe tbody tr th {\n",
       "        vertical-align: top;\n",
       "    }\n",
       "\n",
       "    .dataframe thead th {\n",
       "        text-align: right;\n",
       "    }\n",
       "</style>\n",
       "<table border=\"1\" class=\"dataframe\">\n",
       "  <thead>\n",
       "    <tr style=\"text-align: right;\">\n",
       "      <th></th>\n",
       "      <th>Make</th>\n",
       "      <th>Colour</th>\n",
       "      <th>Odometer</th>\n",
       "      <th>Doors</th>\n",
       "      <th>Price</th>\n",
       "    </tr>\n",
       "  </thead>\n",
       "  <tbody>\n",
       "    <tr>\n",
       "      <th>0</th>\n",
       "      <td>Toyota</td>\n",
       "      <td>White</td>\n",
       "      <td>150043.0</td>\n",
       "      <td>4.0</td>\n",
       "      <td>4000.0</td>\n",
       "    </tr>\n",
       "    <tr>\n",
       "      <th>1</th>\n",
       "      <td>Honda</td>\n",
       "      <td>Red</td>\n",
       "      <td>87899.0</td>\n",
       "      <td>4.0</td>\n",
       "      <td>5000.0</td>\n",
       "    </tr>\n",
       "    <tr>\n",
       "      <th>2</th>\n",
       "      <td>Toyota</td>\n",
       "      <td>Blue</td>\n",
       "      <td>87899.0</td>\n",
       "      <td>3.0</td>\n",
       "      <td>7000.0</td>\n",
       "    </tr>\n",
       "    <tr>\n",
       "      <th>3</th>\n",
       "      <td>BMW</td>\n",
       "      <td>Black</td>\n",
       "      <td>11179.0</td>\n",
       "      <td>5.0</td>\n",
       "      <td>22000.0</td>\n",
       "    </tr>\n",
       "    <tr>\n",
       "      <th>4</th>\n",
       "      <td>Nissan</td>\n",
       "      <td>White</td>\n",
       "      <td>213095.0</td>\n",
       "      <td>4.0</td>\n",
       "      <td>3500.0</td>\n",
       "    </tr>\n",
       "    <tr>\n",
       "      <th>5</th>\n",
       "      <td>Toyota</td>\n",
       "      <td>Green</td>\n",
       "      <td>213095.0</td>\n",
       "      <td>4.0</td>\n",
       "      <td>4500.0</td>\n",
       "    </tr>\n",
       "    <tr>\n",
       "      <th>6</th>\n",
       "      <td>Honda</td>\n",
       "      <td>Green</td>\n",
       "      <td>213095.0</td>\n",
       "      <td>4.0</td>\n",
       "      <td>7500.0</td>\n",
       "    </tr>\n",
       "    <tr>\n",
       "      <th>7</th>\n",
       "      <td>Honda</td>\n",
       "      <td>Blue</td>\n",
       "      <td>213095.0</td>\n",
       "      <td>4.0</td>\n",
       "      <td>7500.0</td>\n",
       "    </tr>\n",
       "    <tr>\n",
       "      <th>8</th>\n",
       "      <td>Toyota</td>\n",
       "      <td>White</td>\n",
       "      <td>60000.0</td>\n",
       "      <td>4.0</td>\n",
       "      <td>7500.0</td>\n",
       "    </tr>\n",
       "    <tr>\n",
       "      <th>9</th>\n",
       "      <td>Toyota</td>\n",
       "      <td>White</td>\n",
       "      <td>31600.0</td>\n",
       "      <td>4.0</td>\n",
       "      <td>9700.0</td>\n",
       "    </tr>\n",
       "  </tbody>\n",
       "</table>\n",
       "</div>"
      ],
      "text/plain": [
       "     Make Colour  Odometer  Doors    Price\n",
       "0  Toyota  White  150043.0    4.0   4000.0\n",
       "1   Honda    Red   87899.0    4.0   5000.0\n",
       "2  Toyota   Blue   87899.0    3.0   7000.0\n",
       "3     BMW  Black   11179.0    5.0  22000.0\n",
       "4  Nissan  White  213095.0    4.0   3500.0\n",
       "5  Toyota  Green  213095.0    4.0   4500.0\n",
       "6   Honda  Green  213095.0    4.0   7500.0\n",
       "7   Honda   Blue  213095.0    4.0   7500.0\n",
       "8  Toyota  White   60000.0    4.0   7500.0\n",
       "9  Toyota  White   31600.0    4.0   9700.0"
      ]
     },
     "execution_count": 49,
     "metadata": {},
     "output_type": "execute_result"
    }
   ],
   "source": [
    "df.fillna(method = 'pad', inplace = True)\n",
    "df"
   ]
  },
  {
   "cell_type": "markdown",
   "id": "a9e38467",
   "metadata": {},
   "source": [
    "## Encoding\n",
    "\n",
    "There are two ways to go with encoding\\ \n",
    "\n",
    "1) Label Encoding\n",
    "> Firstly its syntax<br>\n",
    "from sklearn.preprocessing import LabelEncoder<br>\n",
    "from sklearn.compose import ColumnTransformer<br>\n",
    "label_encoder = LabelEncoder()<br>\n",
    "x['Make'] = label_encoder.fit_transform(x['Make'])\n",
    ".<br>\n",
    ".<br>\n",
    ".<br>\n",
    ".<br>\n",
    "and so on for all string values<br>\n",
    "\n",
    "2) One Hot Encoder\n",
    "> Firstly its syntax<br>\n",
    "from sklearn.preprocessing import OneHotEncoder<br>\n",
    "from sklearn.compose import ColumnTransformer<br>\n",
    "ohe = ColumnTransformer([(\"Make,Colour\",OneHotEncoder(),0,1])],remainder=\"passthrough\")<br>\n",
    "x=ct.fit_transform(x)<br>\n",
    "\n",
    "\n",
    "The main differnce between LE and OHE is:\n",
    "\n",
    "Let's say you have a list of fruits: apple, orange, and pear.\n",
    "\n",
    "Label encoding is a way to give each fruit a number. For example, you can give apple the number 1, orange the number 2, and pear the number 3.\n",
    "\n",
    "One hot encoding is a different way to represent the fruits. Instead of giving them numbers, you make a list of three fruit \"columns\" and put a \"1\" in the column for the fruit you want, and a \"0\" in the other two columns. So, if you want to represent the fruit apple, you would put a \"1\" in the apple column and a \"0\" in the orange and pear columns."
   ]
  },
  {
   "cell_type": "code",
   "execution_count": 69,
   "id": "bffa4721",
   "metadata": {},
   "outputs": [
    {
     "data": {
      "text/plain": [
       "0     4000.0\n",
       "1     5000.0\n",
       "2     7000.0\n",
       "3    22000.0\n",
       "4     3500.0\n",
       "5     4500.0\n",
       "6     7500.0\n",
       "7     7500.0\n",
       "8     7500.0\n",
       "9     9700.0\n",
       "Name: Price, dtype: float64"
      ]
     },
     "execution_count": 69,
     "metadata": {},
     "output_type": "execute_result"
    }
   ],
   "source": [
    "x = df.drop(['Price'],axis = 1)\n",
    "y = df['Price']\n",
    "y\n",
    "\n",
    "#Can also do:\n",
    "#x=df.iloc[:,:-1]\n",
    "#y=df.iloc[:,4]\n"
   ]
  },
  {
   "cell_type": "code",
   "execution_count": 70,
   "id": "a9ca2a17",
   "metadata": {},
   "outputs": [],
   "source": [
    "#applying label encoder\n",
    "from sklearn.preprocessing import LabelEncoder\n",
    "from sklearn.compose import ColumnTransformer\n",
    "label_encoder = LabelEncoder()\n"
   ]
  },
  {
   "cell_type": "code",
   "execution_count": 71,
   "id": "d544165c",
   "metadata": {},
   "outputs": [],
   "source": [
    "x['Make'] = label_encoder.fit_transform(x['Make'])"
   ]
  },
  {
   "cell_type": "code",
   "execution_count": 72,
   "id": "0dcde2ef",
   "metadata": {},
   "outputs": [],
   "source": [
    "x['Colour'] = label_encoder.fit_transform(x['Colour'])"
   ]
  },
  {
   "cell_type": "code",
   "execution_count": 73,
   "id": "4dfa4e97",
   "metadata": {},
   "outputs": [],
   "source": [
    "x['Doors'] = label_encoder.fit_transform(x['Doors'])"
   ]
  },
  {
   "cell_type": "code",
   "execution_count": 74,
   "id": "584ffd07",
   "metadata": {
    "scrolled": true
   },
   "outputs": [
    {
     "data": {
      "text/html": [
       "<div>\n",
       "<style scoped>\n",
       "    .dataframe tbody tr th:only-of-type {\n",
       "        vertical-align: middle;\n",
       "    }\n",
       "\n",
       "    .dataframe tbody tr th {\n",
       "        vertical-align: top;\n",
       "    }\n",
       "\n",
       "    .dataframe thead th {\n",
       "        text-align: right;\n",
       "    }\n",
       "</style>\n",
       "<table border=\"1\" class=\"dataframe\">\n",
       "  <thead>\n",
       "    <tr style=\"text-align: right;\">\n",
       "      <th></th>\n",
       "      <th>Make</th>\n",
       "      <th>Colour</th>\n",
       "      <th>Odometer</th>\n",
       "      <th>Doors</th>\n",
       "    </tr>\n",
       "  </thead>\n",
       "  <tbody>\n",
       "    <tr>\n",
       "      <th>0</th>\n",
       "      <td>3</td>\n",
       "      <td>4</td>\n",
       "      <td>150043.0</td>\n",
       "      <td>1</td>\n",
       "    </tr>\n",
       "    <tr>\n",
       "      <th>1</th>\n",
       "      <td>1</td>\n",
       "      <td>3</td>\n",
       "      <td>87899.0</td>\n",
       "      <td>1</td>\n",
       "    </tr>\n",
       "    <tr>\n",
       "      <th>2</th>\n",
       "      <td>3</td>\n",
       "      <td>1</td>\n",
       "      <td>87899.0</td>\n",
       "      <td>0</td>\n",
       "    </tr>\n",
       "    <tr>\n",
       "      <th>3</th>\n",
       "      <td>0</td>\n",
       "      <td>0</td>\n",
       "      <td>11179.0</td>\n",
       "      <td>2</td>\n",
       "    </tr>\n",
       "    <tr>\n",
       "      <th>4</th>\n",
       "      <td>2</td>\n",
       "      <td>4</td>\n",
       "      <td>213095.0</td>\n",
       "      <td>1</td>\n",
       "    </tr>\n",
       "    <tr>\n",
       "      <th>5</th>\n",
       "      <td>3</td>\n",
       "      <td>2</td>\n",
       "      <td>213095.0</td>\n",
       "      <td>1</td>\n",
       "    </tr>\n",
       "    <tr>\n",
       "      <th>6</th>\n",
       "      <td>1</td>\n",
       "      <td>2</td>\n",
       "      <td>213095.0</td>\n",
       "      <td>1</td>\n",
       "    </tr>\n",
       "    <tr>\n",
       "      <th>7</th>\n",
       "      <td>1</td>\n",
       "      <td>1</td>\n",
       "      <td>213095.0</td>\n",
       "      <td>1</td>\n",
       "    </tr>\n",
       "    <tr>\n",
       "      <th>8</th>\n",
       "      <td>3</td>\n",
       "      <td>4</td>\n",
       "      <td>60000.0</td>\n",
       "      <td>1</td>\n",
       "    </tr>\n",
       "    <tr>\n",
       "      <th>9</th>\n",
       "      <td>3</td>\n",
       "      <td>4</td>\n",
       "      <td>31600.0</td>\n",
       "      <td>1</td>\n",
       "    </tr>\n",
       "  </tbody>\n",
       "</table>\n",
       "</div>"
      ],
      "text/plain": [
       "   Make  Colour  Odometer  Doors\n",
       "0     3       4  150043.0      1\n",
       "1     1       3   87899.0      1\n",
       "2     3       1   87899.0      0\n",
       "3     0       0   11179.0      2\n",
       "4     2       4  213095.0      1\n",
       "5     3       2  213095.0      1\n",
       "6     1       2  213095.0      1\n",
       "7     1       1  213095.0      1\n",
       "8     3       4   60000.0      1\n",
       "9     3       4   31600.0      1"
      ]
     },
     "execution_count": 74,
     "metadata": {},
     "output_type": "execute_result"
    }
   ],
   "source": [
    "x"
   ]
  },
  {
   "cell_type": "code",
   "execution_count": 75,
   "id": "825be1e3",
   "metadata": {},
   "outputs": [],
   "source": [
    "from sklearn.model_selection import train_test_split\n",
    "x_train,x_test,y_train,y_test=train_test_split(x,y,test_size=0.25,random_state=3)"
   ]
  },
  {
   "cell_type": "code",
   "execution_count": 76,
   "id": "c6123262",
   "metadata": {},
   "outputs": [
    {
     "data": {
      "text/plain": [
       "LinearRegression()"
      ]
     },
     "execution_count": 76,
     "metadata": {},
     "output_type": "execute_result"
    }
   ],
   "source": [
    "from sklearn.linear_model import LinearRegression\n",
    "regressor=LinearRegression()\n",
    "regressor.fit(x_train,y_train)"
   ]
  },
  {
   "cell_type": "code",
   "execution_count": 77,
   "id": "510289ce",
   "metadata": {},
   "outputs": [
    {
     "data": {
      "text/plain": [
       "array([ 1569.53402064,  3570.77522123, 12924.71962177])"
      ]
     },
     "execution_count": 77,
     "metadata": {},
     "output_type": "execute_result"
    }
   ],
   "source": [
    "y_pred=regressor.predict(x_test)\n",
    "x_pred=regressor.predict(x_train)\n",
    "y_pred"
   ]
  },
  {
   "cell_type": "code",
   "execution_count": 78,
   "id": "78fb1987",
   "metadata": {},
   "outputs": [
    {
     "name": "stdout",
     "output_type": "stream",
     "text": [
      "Train Score: 0.9971809792242989\n",
      "Test Score: -60.19470377586204\n"
     ]
    }
   ],
   "source": [
    "print('Train Score:', regressor.score(x_train,y_train) )\n",
    "print('Test Score:', regressor.score(x_test,y_test) )"
   ]
  },
  {
   "cell_type": "markdown",
   "id": "2518d57f",
   "metadata": {},
   "source": [
    "# One Hot Encoding Car Sales"
   ]
  },
  {
   "cell_type": "code",
   "execution_count": 79,
   "id": "92a72d9c",
   "metadata": {},
   "outputs": [
    {
     "data": {
      "text/html": [
       "<div>\n",
       "<style scoped>\n",
       "    .dataframe tbody tr th:only-of-type {\n",
       "        vertical-align: middle;\n",
       "    }\n",
       "\n",
       "    .dataframe tbody tr th {\n",
       "        vertical-align: top;\n",
       "    }\n",
       "\n",
       "    .dataframe thead th {\n",
       "        text-align: right;\n",
       "    }\n",
       "</style>\n",
       "<table border=\"1\" class=\"dataframe\">\n",
       "  <thead>\n",
       "    <tr style=\"text-align: right;\">\n",
       "      <th></th>\n",
       "      <th>Make</th>\n",
       "      <th>Colour</th>\n",
       "      <th>Odometer</th>\n",
       "      <th>Doors</th>\n",
       "      <th>Price</th>\n",
       "    </tr>\n",
       "  </thead>\n",
       "  <tbody>\n",
       "    <tr>\n",
       "      <th>0</th>\n",
       "      <td>Toyota</td>\n",
       "      <td>White</td>\n",
       "      <td>150043.0</td>\n",
       "      <td>4.0</td>\n",
       "      <td>4000.0</td>\n",
       "    </tr>\n",
       "    <tr>\n",
       "      <th>1</th>\n",
       "      <td>Honda</td>\n",
       "      <td>Red</td>\n",
       "      <td>87899.0</td>\n",
       "      <td>4.0</td>\n",
       "      <td>5000.0</td>\n",
       "    </tr>\n",
       "    <tr>\n",
       "      <th>2</th>\n",
       "      <td>Toyota</td>\n",
       "      <td>Blue</td>\n",
       "      <td>NaN</td>\n",
       "      <td>3.0</td>\n",
       "      <td>7000.0</td>\n",
       "    </tr>\n",
       "    <tr>\n",
       "      <th>3</th>\n",
       "      <td>BMW</td>\n",
       "      <td>Black</td>\n",
       "      <td>11179.0</td>\n",
       "      <td>5.0</td>\n",
       "      <td>22000.0</td>\n",
       "    </tr>\n",
       "    <tr>\n",
       "      <th>4</th>\n",
       "      <td>Nissan</td>\n",
       "      <td>White</td>\n",
       "      <td>213095.0</td>\n",
       "      <td>4.0</td>\n",
       "      <td>3500.0</td>\n",
       "    </tr>\n",
       "    <tr>\n",
       "      <th>5</th>\n",
       "      <td>Toyota</td>\n",
       "      <td>Green</td>\n",
       "      <td>NaN</td>\n",
       "      <td>4.0</td>\n",
       "      <td>4500.0</td>\n",
       "    </tr>\n",
       "    <tr>\n",
       "      <th>6</th>\n",
       "      <td>Honda</td>\n",
       "      <td>NaN</td>\n",
       "      <td>NaN</td>\n",
       "      <td>4.0</td>\n",
       "      <td>7500.0</td>\n",
       "    </tr>\n",
       "    <tr>\n",
       "      <th>7</th>\n",
       "      <td>Honda</td>\n",
       "      <td>Blue</td>\n",
       "      <td>NaN</td>\n",
       "      <td>4.0</td>\n",
       "      <td>NaN</td>\n",
       "    </tr>\n",
       "    <tr>\n",
       "      <th>8</th>\n",
       "      <td>Toyota</td>\n",
       "      <td>White</td>\n",
       "      <td>60000.0</td>\n",
       "      <td>NaN</td>\n",
       "      <td>NaN</td>\n",
       "    </tr>\n",
       "    <tr>\n",
       "      <th>9</th>\n",
       "      <td>NaN</td>\n",
       "      <td>White</td>\n",
       "      <td>31600.0</td>\n",
       "      <td>4.0</td>\n",
       "      <td>9700.0</td>\n",
       "    </tr>\n",
       "  </tbody>\n",
       "</table>\n",
       "</div>"
      ],
      "text/plain": [
       "     Make Colour  Odometer  Doors    Price\n",
       "0  Toyota  White  150043.0    4.0   4000.0\n",
       "1   Honda    Red   87899.0    4.0   5000.0\n",
       "2  Toyota   Blue       NaN    3.0   7000.0\n",
       "3     BMW  Black   11179.0    5.0  22000.0\n",
       "4  Nissan  White  213095.0    4.0   3500.0\n",
       "5  Toyota  Green       NaN    4.0   4500.0\n",
       "6   Honda    NaN       NaN    4.0   7500.0\n",
       "7   Honda   Blue       NaN    4.0      NaN\n",
       "8  Toyota  White   60000.0    NaN      NaN\n",
       "9     NaN  White   31600.0    4.0   9700.0"
      ]
     },
     "execution_count": 79,
     "metadata": {},
     "output_type": "execute_result"
    }
   ],
   "source": [
    "import pandas as pd\n",
    "df = pd.read_csv('car-sales-missing-data.csv')\n",
    "df"
   ]
  },
  {
   "cell_type": "code",
   "execution_count": 80,
   "id": "8a08b8d5",
   "metadata": {},
   "outputs": [
    {
     "data": {
      "text/plain": [
       "Make        1\n",
       "Colour      1\n",
       "Odometer    4\n",
       "Doors       1\n",
       "Price       2\n",
       "dtype: int64"
      ]
     },
     "execution_count": 80,
     "metadata": {},
     "output_type": "execute_result"
    }
   ],
   "source": [
    "df.isnull().sum()"
   ]
  },
  {
   "cell_type": "code",
   "execution_count": 81,
   "id": "224bbd99",
   "metadata": {},
   "outputs": [
    {
     "data": {
      "text/html": [
       "<div>\n",
       "<style scoped>\n",
       "    .dataframe tbody tr th:only-of-type {\n",
       "        vertical-align: middle;\n",
       "    }\n",
       "\n",
       "    .dataframe tbody tr th {\n",
       "        vertical-align: top;\n",
       "    }\n",
       "\n",
       "    .dataframe thead th {\n",
       "        text-align: right;\n",
       "    }\n",
       "</style>\n",
       "<table border=\"1\" class=\"dataframe\">\n",
       "  <thead>\n",
       "    <tr style=\"text-align: right;\">\n",
       "      <th></th>\n",
       "      <th>Make</th>\n",
       "      <th>Colour</th>\n",
       "      <th>Odometer</th>\n",
       "      <th>Doors</th>\n",
       "      <th>Price</th>\n",
       "    </tr>\n",
       "  </thead>\n",
       "  <tbody>\n",
       "    <tr>\n",
       "      <th>0</th>\n",
       "      <td>Toyota</td>\n",
       "      <td>White</td>\n",
       "      <td>150043.0</td>\n",
       "      <td>4.0</td>\n",
       "      <td>4000.0</td>\n",
       "    </tr>\n",
       "    <tr>\n",
       "      <th>1</th>\n",
       "      <td>Honda</td>\n",
       "      <td>Red</td>\n",
       "      <td>87899.0</td>\n",
       "      <td>4.0</td>\n",
       "      <td>5000.0</td>\n",
       "    </tr>\n",
       "    <tr>\n",
       "      <th>2</th>\n",
       "      <td>Toyota</td>\n",
       "      <td>Blue</td>\n",
       "      <td>87899.0</td>\n",
       "      <td>3.0</td>\n",
       "      <td>7000.0</td>\n",
       "    </tr>\n",
       "    <tr>\n",
       "      <th>3</th>\n",
       "      <td>BMW</td>\n",
       "      <td>Black</td>\n",
       "      <td>11179.0</td>\n",
       "      <td>5.0</td>\n",
       "      <td>22000.0</td>\n",
       "    </tr>\n",
       "    <tr>\n",
       "      <th>4</th>\n",
       "      <td>Nissan</td>\n",
       "      <td>White</td>\n",
       "      <td>213095.0</td>\n",
       "      <td>4.0</td>\n",
       "      <td>3500.0</td>\n",
       "    </tr>\n",
       "    <tr>\n",
       "      <th>5</th>\n",
       "      <td>Toyota</td>\n",
       "      <td>Green</td>\n",
       "      <td>213095.0</td>\n",
       "      <td>4.0</td>\n",
       "      <td>4500.0</td>\n",
       "    </tr>\n",
       "    <tr>\n",
       "      <th>6</th>\n",
       "      <td>Honda</td>\n",
       "      <td>Green</td>\n",
       "      <td>213095.0</td>\n",
       "      <td>4.0</td>\n",
       "      <td>7500.0</td>\n",
       "    </tr>\n",
       "    <tr>\n",
       "      <th>7</th>\n",
       "      <td>Honda</td>\n",
       "      <td>Blue</td>\n",
       "      <td>213095.0</td>\n",
       "      <td>4.0</td>\n",
       "      <td>7500.0</td>\n",
       "    </tr>\n",
       "    <tr>\n",
       "      <th>8</th>\n",
       "      <td>Toyota</td>\n",
       "      <td>White</td>\n",
       "      <td>60000.0</td>\n",
       "      <td>4.0</td>\n",
       "      <td>7500.0</td>\n",
       "    </tr>\n",
       "    <tr>\n",
       "      <th>9</th>\n",
       "      <td>Toyota</td>\n",
       "      <td>White</td>\n",
       "      <td>31600.0</td>\n",
       "      <td>4.0</td>\n",
       "      <td>9700.0</td>\n",
       "    </tr>\n",
       "  </tbody>\n",
       "</table>\n",
       "</div>"
      ],
      "text/plain": [
       "     Make Colour  Odometer  Doors    Price\n",
       "0  Toyota  White  150043.0    4.0   4000.0\n",
       "1   Honda    Red   87899.0    4.0   5000.0\n",
       "2  Toyota   Blue   87899.0    3.0   7000.0\n",
       "3     BMW  Black   11179.0    5.0  22000.0\n",
       "4  Nissan  White  213095.0    4.0   3500.0\n",
       "5  Toyota  Green  213095.0    4.0   4500.0\n",
       "6   Honda  Green  213095.0    4.0   7500.0\n",
       "7   Honda   Blue  213095.0    4.0   7500.0\n",
       "8  Toyota  White   60000.0    4.0   7500.0\n",
       "9  Toyota  White   31600.0    4.0   9700.0"
      ]
     },
     "execution_count": 81,
     "metadata": {},
     "output_type": "execute_result"
    }
   ],
   "source": [
    "df.fillna(method = 'pad', inplace = True)\n",
    "df"
   ]
  },
  {
   "cell_type": "code",
   "execution_count": 82,
   "id": "acd31ee0",
   "metadata": {},
   "outputs": [
    {
     "data": {
      "text/plain": [
       "0     4000.0\n",
       "1     5000.0\n",
       "2     7000.0\n",
       "3    22000.0\n",
       "4     3500.0\n",
       "5     4500.0\n",
       "6     7500.0\n",
       "7     7500.0\n",
       "8     7500.0\n",
       "9     9700.0\n",
       "Name: Price, dtype: float64"
      ]
     },
     "execution_count": 82,
     "metadata": {},
     "output_type": "execute_result"
    }
   ],
   "source": [
    "x = df.drop(['Price'],axis = 1)\n",
    "y = df['Price']\n",
    "y\n",
    "\n",
    "#Can also do:\n",
    "#x=df.iloc[:,:-1]\n",
    "#y=df.iloc[:,4]\n"
   ]
  },
  {
   "cell_type": "code",
   "execution_count": 83,
   "id": "77a4cc79",
   "metadata": {},
   "outputs": [],
   "source": [
    "from sklearn.preprocessing import OneHotEncoder\n",
    "from sklearn.compose import ColumnTransformer\n",
    "ct=ColumnTransformer([(\"Make,Colour\",OneHotEncoder(),[0,1])],remainder=\"passthrough\")\n",
    "x=ct.fit_transform(x)"
   ]
  },
  {
   "cell_type": "code",
   "execution_count": 84,
   "id": "54735e11",
   "metadata": {},
   "outputs": [
    {
     "data": {
      "text/plain": [
       "array([[0.00000e+00, 0.00000e+00, 0.00000e+00, 1.00000e+00, 0.00000e+00,\n",
       "        0.00000e+00, 0.00000e+00, 0.00000e+00, 1.00000e+00, 1.50043e+05,\n",
       "        4.00000e+00],\n",
       "       [0.00000e+00, 1.00000e+00, 0.00000e+00, 0.00000e+00, 0.00000e+00,\n",
       "        0.00000e+00, 0.00000e+00, 1.00000e+00, 0.00000e+00, 8.78990e+04,\n",
       "        4.00000e+00],\n",
       "       [0.00000e+00, 0.00000e+00, 0.00000e+00, 1.00000e+00, 0.00000e+00,\n",
       "        1.00000e+00, 0.00000e+00, 0.00000e+00, 0.00000e+00, 8.78990e+04,\n",
       "        3.00000e+00],\n",
       "       [1.00000e+00, 0.00000e+00, 0.00000e+00, 0.00000e+00, 1.00000e+00,\n",
       "        0.00000e+00, 0.00000e+00, 0.00000e+00, 0.00000e+00, 1.11790e+04,\n",
       "        5.00000e+00],\n",
       "       [0.00000e+00, 0.00000e+00, 1.00000e+00, 0.00000e+00, 0.00000e+00,\n",
       "        0.00000e+00, 0.00000e+00, 0.00000e+00, 1.00000e+00, 2.13095e+05,\n",
       "        4.00000e+00],\n",
       "       [0.00000e+00, 0.00000e+00, 0.00000e+00, 1.00000e+00, 0.00000e+00,\n",
       "        0.00000e+00, 1.00000e+00, 0.00000e+00, 0.00000e+00, 2.13095e+05,\n",
       "        4.00000e+00],\n",
       "       [0.00000e+00, 1.00000e+00, 0.00000e+00, 0.00000e+00, 0.00000e+00,\n",
       "        0.00000e+00, 1.00000e+00, 0.00000e+00, 0.00000e+00, 2.13095e+05,\n",
       "        4.00000e+00],\n",
       "       [0.00000e+00, 1.00000e+00, 0.00000e+00, 0.00000e+00, 0.00000e+00,\n",
       "        1.00000e+00, 0.00000e+00, 0.00000e+00, 0.00000e+00, 2.13095e+05,\n",
       "        4.00000e+00],\n",
       "       [0.00000e+00, 0.00000e+00, 0.00000e+00, 1.00000e+00, 0.00000e+00,\n",
       "        0.00000e+00, 0.00000e+00, 0.00000e+00, 1.00000e+00, 6.00000e+04,\n",
       "        4.00000e+00],\n",
       "       [0.00000e+00, 0.00000e+00, 0.00000e+00, 1.00000e+00, 0.00000e+00,\n",
       "        0.00000e+00, 0.00000e+00, 0.00000e+00, 1.00000e+00, 3.16000e+04,\n",
       "        4.00000e+00]])"
      ]
     },
     "execution_count": 84,
     "metadata": {},
     "output_type": "execute_result"
    }
   ],
   "source": [
    "x"
   ]
  },
  {
   "cell_type": "code",
   "execution_count": 86,
   "id": "fa042f16",
   "metadata": {},
   "outputs": [],
   "source": [
    "from sklearn.model_selection import train_test_split\n",
    "x_train,x_test,y_train,y_test=train_test_split(x,y,test_size=0.2,random_state=3)"
   ]
  },
  {
   "cell_type": "code",
   "execution_count": 87,
   "id": "4b2463f8",
   "metadata": {},
   "outputs": [
    {
     "data": {
      "text/plain": [
       "LinearRegression()"
      ]
     },
     "execution_count": 87,
     "metadata": {},
     "output_type": "execute_result"
    }
   ],
   "source": [
    "from sklearn.linear_model import LinearRegression\n",
    "regressor=LinearRegression()\n",
    "regressor.fit(x_train,y_train)"
   ]
  },
  {
   "cell_type": "code",
   "execution_count": 88,
   "id": "55f6186a",
   "metadata": {},
   "outputs": [
    {
     "data": {
      "text/plain": [
       "array([4713.90444146, 3498.22637915])"
      ]
     },
     "execution_count": 88,
     "metadata": {},
     "output_type": "execute_result"
    }
   ],
   "source": [
    "y_pred=regressor.predict(x_test)\n",
    "x_pred=regressor.predict(x_train)\n",
    "y_pred"
   ]
  },
  {
   "cell_type": "code",
   "execution_count": 89,
   "id": "0d21216b",
   "metadata": {},
   "outputs": [
    {
     "name": "stdout",
     "output_type": "stream",
     "text": [
      "Train Score: 0.9980774935781943\n",
      "Test Score: 0.9084834883890277\n"
     ]
    }
   ],
   "source": [
    "print('Train Score:', regressor.score(x_train,y_train) )\n",
    "print('Test Score:', regressor.score(x_test,y_test) )"
   ]
  },
  {
   "cell_type": "code",
   "execution_count": null,
   "id": "c052e4c8",
   "metadata": {},
   "outputs": [],
   "source": []
  }
 ],
 "metadata": {
  "kernelspec": {
   "display_name": "Python 3 (ipykernel)",
   "language": "python",
   "name": "python3"
  },
  "language_info": {
   "codemirror_mode": {
    "name": "ipython",
    "version": 3
   },
   "file_extension": ".py",
   "mimetype": "text/x-python",
   "name": "python",
   "nbconvert_exporter": "python",
   "pygments_lexer": "ipython3",
   "version": "3.9.13"
  }
 },
 "nbformat": 4,
 "nbformat_minor": 5
}
